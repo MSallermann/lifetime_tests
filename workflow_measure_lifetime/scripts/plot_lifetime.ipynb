{
 "cells": [
  {
   "cell_type": "code",
   "execution_count": 1,
   "metadata": {},
   "outputs": [
    {
     "data": {
      "text/html": [
       "<div>\n",
       "<style scoped>\n",
       "    .dataframe tbody tr th:only-of-type {\n",
       "        vertical-align: middle;\n",
       "    }\n",
       "\n",
       "    .dataframe tbody tr th {\n",
       "        vertical-align: top;\n",
       "    }\n",
       "\n",
       "    .dataframe thead th {\n",
       "        text-align: right;\n",
       "    }\n",
       "</style>\n",
       "<table border=\"1\" class=\"dataframe\">\n",
       "  <thead>\n",
       "    <tr style=\"text-align: right;\">\n",
       "      <th></th>\n",
       "      <th>Unnamed: 0</th>\n",
       "      <th>temperatures</th>\n",
       "      <th>mfpt_results</th>\n",
       "    </tr>\n",
       "  </thead>\n",
       "  <tbody>\n",
       "    <tr>\n",
       "      <th>0</th>\n",
       "      <td>0</td>\n",
       "      <td>2.000000</td>\n",
       "      <td>lifetime=91.03801567452322 std_lifetime=0.4265...</td>\n",
       "    </tr>\n",
       "    <tr>\n",
       "      <th>1</th>\n",
       "      <td>1</td>\n",
       "      <td>2.111111</td>\n",
       "      <td>lifetime=57.09467282391205 std_lifetime=0.2310...</td>\n",
       "    </tr>\n",
       "    <tr>\n",
       "      <th>2</th>\n",
       "      <td>2</td>\n",
       "      <td>2.222222</td>\n",
       "      <td>lifetime=36.63780882342384 std_lifetime=1.1464...</td>\n",
       "    </tr>\n",
       "    <tr>\n",
       "      <th>3</th>\n",
       "      <td>3</td>\n",
       "      <td>2.333333</td>\n",
       "      <td>lifetime=61.916530223369875 std_lifetime=0.277...</td>\n",
       "    </tr>\n",
       "    <tr>\n",
       "      <th>4</th>\n",
       "      <td>4</td>\n",
       "      <td>2.444444</td>\n",
       "      <td>lifetime=41.53217216270846 std_lifetime=0.3998...</td>\n",
       "    </tr>\n",
       "    <tr>\n",
       "      <th>5</th>\n",
       "      <td>5</td>\n",
       "      <td>2.555556</td>\n",
       "      <td>lifetime=36.24604141011917 std_lifetime=0.2322...</td>\n",
       "    </tr>\n",
       "    <tr>\n",
       "      <th>6</th>\n",
       "      <td>6</td>\n",
       "      <td>2.666667</td>\n",
       "      <td>lifetime=35.9792896313225 std_lifetime=2.89609...</td>\n",
       "    </tr>\n",
       "    <tr>\n",
       "      <th>7</th>\n",
       "      <td>7</td>\n",
       "      <td>2.777778</td>\n",
       "      <td>lifetime=39.17685975872523 std_lifetime=0.2265...</td>\n",
       "    </tr>\n",
       "    <tr>\n",
       "      <th>8</th>\n",
       "      <td>8</td>\n",
       "      <td>2.888889</td>\n",
       "      <td>lifetime=24.48633517424014 std_lifetime=0.2623...</td>\n",
       "    </tr>\n",
       "    <tr>\n",
       "      <th>9</th>\n",
       "      <td>9</td>\n",
       "      <td>3.000000</td>\n",
       "      <td>lifetime=17.578578184810823 std_lifetime=0.831...</td>\n",
       "    </tr>\n",
       "  </tbody>\n",
       "</table>\n",
       "</div>"
      ],
      "text/plain": [
       "   Unnamed: 0  temperatures                                       mfpt_results\n",
       "0           0      2.000000  lifetime=91.03801567452322 std_lifetime=0.4265...\n",
       "1           1      2.111111  lifetime=57.09467282391205 std_lifetime=0.2310...\n",
       "2           2      2.222222  lifetime=36.63780882342384 std_lifetime=1.1464...\n",
       "3           3      2.333333  lifetime=61.916530223369875 std_lifetime=0.277...\n",
       "4           4      2.444444  lifetime=41.53217216270846 std_lifetime=0.3998...\n",
       "5           5      2.555556  lifetime=36.24604141011917 std_lifetime=0.2322...\n",
       "6           6      2.666667  lifetime=35.9792896313225 std_lifetime=2.89609...\n",
       "7           7      2.777778  lifetime=39.17685975872523 std_lifetime=0.2265...\n",
       "8           8      2.888889  lifetime=24.48633517424014 std_lifetime=0.2623...\n",
       "9           9      3.000000  lifetime=17.578578184810823 std_lifetime=0.831..."
      ]
     },
     "execution_count": 1,
     "metadata": {},
     "output_type": "execute_result"
    }
   ],
   "source": [
    "import numpy as np\n",
    "import pandas as pd\n",
    "from pathlib import Path\n",
    "import lifetime_from_mfpt\n",
    "\n",
    "data_path = Path(\"../results/lifetime_vs_temp.csv\")\n",
    "\n",
    "df = pd.read_csv(\n",
    "    data_path,\n",
    "    converters={\n",
    "        \"mfpt_results\": lifetime_from_mfpt.MFPTLifetimeResult.model_validate_json,\n",
    "    },\n",
    ")\n",
    "\n",
    "df"
   ]
  },
  {
   "cell_type": "code",
   "execution_count": 8,
   "metadata": {},
   "outputs": [
    {
     "data": {
      "text/plain": [
       "<Figure size 511.811x295.522 with 0 Axes>"
      ]
     },
     "metadata": {},
     "output_type": "display_data"
    }
   ],
   "source": [
    "from spirit_extras.plotting import Paper_Plot\n",
    "\n",
    "CM = Paper_Plot.cm\n",
    "pplot = Paper_Plot(13 * Paper_Plot.cm)\n",
    "pplot.apply_absolute_margins(\n",
    "    16 / 9,\n",
    "    abs_horizontal_margins=[1.2 * CM, 0.5 * CM],\n",
    "    abs_vertical_margins=[1 * CM, 0.15 * CM],\n",
    ")\n",
    "fig, gs = pplot.fig(), pplot.gs()"
   ]
  },
  {
   "cell_type": "code",
   "execution_count": 9,
   "metadata": {},
   "outputs": [],
   "source": [
    "ax = fig.add_subplot(gs[0])\n",
    "\n",
    "lifetimes =     np.array([m.lifetime for m in df[\"mfpt_results\"]])\n",
    "std_lifetimes = np.array([m.std_lifetime for m in df[\"mfpt_results\"]])\n",
    "\n",
    "ax.plot(df[\"temperatures\"], lifetimes, color=\"black\")\n",
    "ax.fill_between(df[\"temperatures\"], lifetimes-std_lifetimes,  lifetimes+std_lifetimes, color=\"C0\", alpha=0.2)\n",
    "\n",
    "ax.set_ylabel(\"Lifetime [ps]\")\n",
    "ax.set_xlabel(\"T [K]\")\n",
    "fig.savefig(\"lifetime_vs_t.png\", dpi=500)"
   ]
  }
 ],
 "metadata": {
  "kernelspec": {
   "display_name": "Python 3",
   "language": "python",
   "name": "python3"
  },
  "language_info": {
   "codemirror_mode": {
    "name": "ipython",
    "version": 3
   },
   "file_extension": ".py",
   "mimetype": "text/x-python",
   "name": "python",
   "nbconvert_exporter": "python",
   "pygments_lexer": "ipython3",
   "version": "3.12.4"
  }
 },
 "nbformat": 4,
 "nbformat_minor": 2
}
